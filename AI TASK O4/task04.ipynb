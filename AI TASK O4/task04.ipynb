{
 "cells": [
  {
   "cell_type": "code",
   "execution_count": 6,
   "id": "013555f6-acf6-411d-905e-29a5a5327b57",
   "metadata": {},
   "outputs": [],
   "source": [
    "import numpy as np\n",
    "\n",
    "import tensorflow as tf\n",
    "from tensorflow.keras import layers, models\n",
    "from sklearn.model_selection import train_test_split"
   ]
  },
  {
   "cell_type": "code",
   "execution_count": 7,
   "id": "f5817a68-e994-43b3-ac26-4baf37453a99",
   "metadata": {},
   "outputs": [],
   "source": [
    "# Load and preprocess data\n",
    "(X_train, y_train), (X_test, y_test) = tf.keras.datasets.mnist.load_data()\n",
    "X_train, X_test = X_train / 255.0, X_test / 255.0\n"
   ]
  },
  {
   "cell_type": "code",
   "execution_count": 8,
   "id": "ff2c7adb-a311-42ae-ab97-89f813cd1059",
   "metadata": {},
   "outputs": [],
   "source": [
    "# Reshape data\n",
    "X_train = X_train.reshape((-1, 28, 28, 1))\n",
    "X_test = X_test.reshape((-1, 28, 28, 1))"
   ]
  },
  {
   "cell_type": "code",
   "execution_count": 9,
   "id": "93bde00d-ecdb-4fe5-bca7-7efb7deaaab6",
   "metadata": {},
   "outputs": [],
   "source": [
    "# Build model\n",
    "model = models.Sequential([\n",
    "    layers.Conv2D(32, (3, 3), activation='relu', input_shape=(28, 28, 1)),\n",
    "    layers.MaxPooling2D((2, 2)),\n",
    "    layers.Conv2D(64, (3, 3), activation='relu'),\n",
    "    layers.MaxPooling2D((2, 2)),\n",
    "    layers.Conv2D(64, (3, 3), activation='relu'),\n",
    "    layers.Flatten(),\n",
    "    layers.Dense(64, activation='relu'),\n",
    "    layers.Dense(10, activation='softmax')\n",
    "])"
   ]
  },
  {
   "cell_type": "code",
   "execution_count": 11,
   "id": "358b794f-3e3b-443c-b674-5330894d0ae4",
   "metadata": {},
   "outputs": [],
   "source": [
    "# Compile model\n",
    "model.compile(optimizer='adam',\n",
    "              loss='sparse_categorical_crossentropy',\n",
    "              metrics=['accuracy'])\n"
   ]
  },
  {
   "cell_type": "code",
   "execution_count": 12,
   "id": "551dafc5-b352-4c14-abf4-72abf6c3fd9d",
   "metadata": {},
   "outputs": [
    {
     "name": "stdout",
     "output_type": "stream",
     "text": [
      "Epoch 1/5\n",
      "1875/1875 [==============================] - 247s 130ms/step - loss: 0.1424 - accuracy: 0.9564 - val_loss: 0.0440 - val_accuracy: 0.9862\n",
      "Epoch 2/5\n",
      "1875/1875 [==============================] - 168s 90ms/step - loss: 0.0460 - accuracy: 0.9854 - val_loss: 0.0308 - val_accuracy: 0.9895\n",
      "Epoch 3/5\n",
      "1875/1875 [==============================] - 175s 93ms/step - loss: 0.0315 - accuracy: 0.9906 - val_loss: 0.0312 - val_accuracy: 0.9896\n",
      "Epoch 4/5\n",
      "1875/1875 [==============================] - 146s 78ms/step - loss: 0.0245 - accuracy: 0.9927 - val_loss: 0.0288 - val_accuracy: 0.9906\n",
      "Epoch 5/5\n",
      "1875/1875 [==============================] - 151s 81ms/step - loss: 0.0200 - accuracy: 0.9936 - val_loss: 0.0363 - val_accuracy: 0.9892\n"
     ]
    },
    {
     "data": {
      "text/plain": [
       "<keras.callbacks.History at 0x1304613f450>"
      ]
     },
     "execution_count": 12,
     "metadata": {},
     "output_type": "execute_result"
    }
   ],
   "source": [
    "# Train model\n",
    "model.fit(X_train, y_train, epochs=5, validation_data=(X_test, y_test))\n"
   ]
  },
  {
   "cell_type": "code",
   "execution_count": 13,
   "id": "83acf401-e7cc-48d2-9d4f-e7525dc80800",
   "metadata": {},
   "outputs": [
    {
     "name": "stdout",
     "output_type": "stream",
     "text": [
      "313/313 [==============================] - 6s 20ms/step - loss: 0.0363 - accuracy: 0.9892\n",
      "Test accuracy: 0.9891999959945679\n"
     ]
    }
   ],
   "source": [
    "# Evaluate model\n",
    "test_loss, test_acc = model.evaluate(X_test, y_test)\n",
    "print('Test accuracy:', test_acc)"
   ]
  },
  {
   "cell_type": "code",
   "execution_count": 14,
   "id": "b0ff522a-689e-40e9-9802-cc599343a56e",
   "metadata": {},
   "outputs": [
    {
     "name": "stdout",
     "output_type": "stream",
     "text": [
      "TensorFlow Version:   2.12.0\n",
      "Keras Version:   2.12.0\n"
     ]
    }
   ],
   "source": [
    "# Importing Tensorflow and keras\n",
    "#Keras is built into TF 2.0\n",
    "\n",
    "import tensorflow as tf\n",
    "from tensorflow.keras import layers\n",
    "from tensorflow.keras.preprocessing.image import ImageDataGenerator\n",
    "import pandas as pd\n",
    "import numpy as np\n",
    "import seaborn as sns\n",
    "import matplotlib.pyplot as plt\n",
    "import matplotlib.image as img\n",
    "%matplotlib inline\n",
    "\n",
    "np.random.seed(2)\n",
    "\n",
    "from sklearn.model_selection import train_test_split\n",
    "from sklearn.metrics import confusion_matrix\n",
    "import itertools\n",
    "\n",
    "#Setting the Theme of the data visualizer Seaborn\n",
    "sns.set(style=\"dark\",context=\"notebook\",palette=\"muted\")\n",
    "\n",
    "#Tensorflow Version\n",
    "print(\"TensorFlow Version:   \"+tf.version.VERSION)\n",
    "print(\"Keras Version:   \"+tf.keras.__version__)"
   ]
  },
  {
   "cell_type": "code",
   "execution_count": 15,
   "id": "a23bfd69-7a0e-4dcc-b950-9ac5fca943f4",
   "metadata": {},
   "outputs": [],
   "source": [
    "import pandas as pd\n",
    "\n",
    "# Path to the CSV files\n",
    "train_path = \"C:/Users/cz 3/Downloads/train.csv\"\n",
    "test_path = \"C:/Users/cz 3/Downloads/test.csv\"\n",
    "\n",
    "# Read the CSV files into pandas DataFrames\n",
    "train = pd.read_csv(train_path)\n",
    "test = pd.read_csv(test_path)\n"
   ]
  },
  {
   "cell_type": "code",
   "execution_count": 16,
   "id": "a57a829c-3b0d-42c9-95e0-28ec2d086ebc",
   "metadata": {},
   "outputs": [
    {
     "data": {
      "text/plain": [
       "label\n",
       "1    4684\n",
       "7    4401\n",
       "3    4351\n",
       "9    4188\n",
       "2    4177\n",
       "6    4137\n",
       "0    4132\n",
       "4    4072\n",
       "8    4063\n",
       "5    3795\n",
       "Name: count, dtype: int64"
      ]
     },
     "execution_count": 16,
     "metadata": {},
     "output_type": "execute_result"
    },
    {
     "data": {
      "image/png": "[encoded data removed]",
      "text/plain": [
       "<Figure size 640x480 with 1 Axes>"
      ]
     },
     "metadata": {},
     "output_type": "display_data"
    }
   ],
   "source": [
    "Y_train = train['label']\n",
    "\n",
    "#Dropping Label Column\n",
    "X_train = train.drop(labels=['label'],axis=1)\n",
    "\n",
    "#free up some space\n",
    "del train\n",
    "\n",
    "graph = sns.countplot(Y_train)\n",
    " \n",
    "Y_train.value_counts()"
   ]
  },
  {
   "cell_type": "code",
   "execution_count": 17,
   "id": "594b0f2f-b75b-4f06-acf5-725d8d0894c3",
   "metadata": {},
   "outputs": [
    {
     "data": {
      "text/plain": [
       "count       784\n",
       "unique        1\n",
       "top       False\n",
       "freq        784\n",
       "dtype: object"
      ]
     },
     "execution_count": 17,
     "metadata": {},
     "output_type": "execute_result"
    }
   ],
   "source": [
    "#Checking for any null or missing values\n",
    "X_train.isnull().any().describe()\n",
    "\n",
    "test.isnull().any().describe()"
   ]
  },
  {
   "cell_type": "code",
   "execution_count": 18,
   "id": "324194cf-32a4-4aa4-9f77-f2dc8b338a30",
   "metadata": {},
   "outputs": [],
   "source": [
    "X_train = X_train/255\n",
    "test = test/255"
   ]
  },
  {
   "cell_type": "code",
   "execution_count": 19,
   "id": "d2092b1f-d0de-433e-bf0f-bd24099aefe8",
   "metadata": {},
   "outputs": [],
   "source": [
    "X_train = X_train.values.reshape(-1,28,28,1)\n",
    "test = test.values.reshape(-1,28,28,1)"
   ]
  },
  {
   "cell_type": "code",
   "execution_count": 20,
   "id": "91574c78-ee7b-455d-bd1f-1d2da02164dd",
   "metadata": {},
   "outputs": [],
   "source": [
    "Y_train = tf.keras.utils.to_categorical(Y_train, num_classes=10)\n",
    "#To enable label into hot vector. For Eg.7 -> [0,0,0,0,0,0,0,1,0,0]"
   ]
  },
  {
   "cell_type": "code",
   "execution_count": 21,
   "id": "fb2f0a10-a2ab-4967-8869-92a444401fe4",
   "metadata": {},
   "outputs": [],
   "source": [
    "#Spliting Train and test set\n",
    "random_seed =2\n",
    "\n",
    "X_train,X_val,Y_train,Y_val = train_test_split(X_train,Y_train,test_size=0.1,\n",
    "                                                random_state = random_seed)"
   ]
  },
  {
   "cell_type": "code",
   "execution_count": 22,
   "id": "862e8cf8-f94e-410c-ac79-c8f6e5a25fdc",
   "metadata": {},
   "outputs": [
    {
     "data": {
      "image/png": "[encoded data removed]",
      "text/plain": [
       "<Figure size 640x480 with 1 Axes>"
      ]
     },
     "metadata": {},
     "output_type": "display_data"
    }
   ],
   "source": [
    "#Show some example \n",
    "\n",
    "g = plt.imshow(X_train[0][:,:,0])"
   ]
  },
  {
   "cell_type": "code",
   "execution_count": 23,
   "id": "4d7efad6-ed87-43aa-ba06-8c710267edf3",
   "metadata": {},
   "outputs": [],
   "source": [
    "#CNN Architecture is In -> [[Conv2D->relu]*2 -> MaxPool2D -> Dropout]*2 -> \n",
    "                           #Flatten -> Dense -> Dropout -> Out\n",
    "model = tf.keras.Sequential()\n",
    "\n",
    "model.add(layers.Conv2D(filters=32, kernel_size=(5,5), padding='Same', \n",
    "                       activation=tf.nn.relu, input_shape = (28,28,1)))\n",
    "model.add(layers.Conv2D(filters=32, kernel_size=(5,5), padding='Same', \n",
    "                       activation=tf.nn.relu))\n",
    "model.add(layers.MaxPool2D(pool_size=(2,2)))\n",
    "model.add(layers.Dropout(0.25))\n",
    "\n",
    "\n",
    "model.add(layers.Conv2D(filters=64, kernel_size=(3,3), padding='Same', \n",
    "                       activation=tf.nn.relu, input_shape = (28,28,1)))\n",
    "model.add(layers.Conv2D(filters=64, kernel_size=(3,3), padding='Same', \n",
    "                       activation=tf.nn.relu))\n",
    "model.add(layers.MaxPool2D(pool_size=(2,2),strides=(2,2)))\n",
    "model.add(layers.Dropout(0.25))\n",
    "\n",
    "model.add(layers.Flatten())\n",
    "model.add(layers.Dense(256,activation=tf.nn.relu))\n",
    "model.add(layers.Dropout(0.25))\n",
    "model.add(layers.Dense(10,activation=tf.nn.softmax))"
   ]
  },
  {
   "cell_type": "code",
   "execution_count": 24,
   "id": "57b15c30-1e24-47f9-b330-f9761094a3ac",
   "metadata": {},
   "outputs": [],
   "source": [
    "optimizer = tf.keras.optimizers.RMSprop(learning_rate=0.001, rho=0.9, epsilon=1e-08)\n"
   ]
  },
  {
   "cell_type": "code",
   "execution_count": 25,
   "id": "f0881401-d92f-4bb7-ac4d-0026a8043db6",
   "metadata": {},
   "outputs": [],
   "source": [
    "#Compiling Model\n",
    "\n",
    "model.compile(optimizer = optimizer, loss='categorical_crossentropy', \n",
    "             metrics=[\"accuracy\"])"
   ]
  },
  {
   "cell_type": "code",
   "execution_count": 26,
   "id": "cd558b6c-ef49-4fb3-9f91-3b033d010819",
   "metadata": {},
   "outputs": [],
   "source": [
    "#Setting Learning rate annealer\n",
    "\n",
    "learning_rate_reduction = tf.keras.callbacks.ReduceLROnPlateau(monitor='val_acc',\n",
    "                                           patience=3,\n",
    "                                           verbose=1,\n",
    "                                           factor=0.5,\n",
    "                                           min_lr=0.00001)"
   ]
  },
  {
   "cell_type": "code",
   "execution_count": 27,
   "id": "3b1a55eb-3d83-4b69-82d9-809385bf4180",
   "metadata": {},
   "outputs": [],
   "source": [
    "epochs=30\n",
    "batch_size = 112"
   ]
  },
  {
   "cell_type": "code",
   "execution_count": 28,
   "id": "53d19bef-e5c8-476c-afeb-0be2ce29bc40",
   "metadata": {},
   "outputs": [],
   "source": [
    "datagen = ImageDataGenerator(\n",
    "        featurewise_center=False,  # set input mean to 0 over the dataset\n",
    "        samplewise_center=False,  # set each sample mean to 0\n",
    "        featurewise_std_normalization=False,  # divide inputs by std of the dataset\n",
    "        samplewise_std_normalization=False,  # divide each input by its std\n",
    "        zca_whitening=False,  # apply ZCA whitening\n",
    "        rotation_range=10,  # randomly rotate images in the range (degrees, 0 to 180)\n",
    "        zoom_range = 0.1, # Randomly zoom image \n",
    "        width_shift_range=0.1,  # randomly shift images horizontally (fraction of total width)\n",
    "        height_shift_range=0.1,  # randomly shift images vertically (fraction of total height)\n",
    "        horizontal_flip=False,  # randomly flip images\n",
    "        vertical_flip=False)  # randomly flip images\n",
    "\n",
    "\n",
    "datagen.fit(X_train)"
   ]
  },
  {
   "cell_type": "code",
   "execution_count": 29,
   "id": "5693ba87-e1bc-4263-9126-114730dcd26d",
   "metadata": {},
   "outputs": [
    {
     "name": "stdout",
     "output_type": "stream",
     "text": [
      "CUDA not Available.. May the force be with you.\n"
     ]
    }
   ],
   "source": [
    "if(tf.test.is_built_with_cuda() == True):\n",
    "    print(\"CUDA Available.. Just wait a few moments...\")\n",
    "else: \n",
    "    print(\"CUDA not Available.. May the force be with you.\")"
   ]
  },
  {
   "cell_type": "code",
   "execution_count": 30,
   "id": "9fb9b3ba-c4e8-4bbb-b5cc-480b933dfda2",
   "metadata": {},
   "outputs": [
    {
     "name": "stdout",
     "output_type": "stream",
     "text": [
      "Epoch 1/30\n",
      "WARNING:tensorflow:Learning rate reduction is conditioned on metric `val_acc` which is not available. Available metrics are: loss,accuracy,val_loss,val_accuracy,lr\n",
      "337/337 - 769s - loss: 0.3937 - accuracy: 0.8723 - val_loss: 0.0664 - val_accuracy: 0.9788 - lr: 0.0010 - 769s/epoch - 2s/step\n",
      "Epoch 2/30\n",
      "WARNING:tensorflow:Learning rate reduction is conditioned on metric `val_acc` which is not available. Available metrics are: loss,accuracy,val_loss,val_accuracy,lr\n",
      "337/337 - 664s - loss: 0.1128 - accuracy: 0.9649 - val_loss: 0.0543 - val_accuracy: 0.9814 - lr: 0.0010 - 664s/epoch - 2s/step\n",
      "Epoch 3/30\n",
      "WARNING:tensorflow:Learning rate reduction is conditioned on metric `val_acc` which is not available. Available metrics are: loss,accuracy,val_loss,val_accuracy,lr\n",
      "337/337 - 883s - loss: 0.0815 - accuracy: 0.9747 - val_loss: 0.0344 - val_accuracy: 0.9895 - lr: 0.0010 - 883s/epoch - 3s/step\n",
      "Epoch 4/30\n",
      "WARNING:tensorflow:Learning rate reduction is conditioned on metric `val_acc` which is not available. Available metrics are: loss,accuracy,val_loss,val_accuracy,lr\n",
      "337/337 - 1157s - loss: 0.0688 - accuracy: 0.9798 - val_loss: 0.0243 - val_accuracy: 0.9926 - lr: 0.0010 - 1157s/epoch - 3s/step\n",
      "Epoch 5/30\n",
      "WARNING:tensorflow:Learning rate reduction is conditioned on metric `val_acc` which is not available. Available metrics are: loss,accuracy,val_loss,val_accuracy,lr\n",
      "337/337 - 556s - loss: 0.0605 - accuracy: 0.9817 - val_loss: 0.0236 - val_accuracy: 0.9924 - lr: 0.0010 - 556s/epoch - 2s/step\n",
      "Epoch 6/30\n",
      "WARNING:tensorflow:Learning rate reduction is conditioned on metric `val_acc` which is not available. Available metrics are: loss,accuracy,val_loss,val_accuracy,lr\n",
      "337/337 - 557s - loss: 0.0526 - accuracy: 0.9841 - val_loss: 0.0259 - val_accuracy: 0.9921 - lr: 0.0010 - 557s/epoch - 2s/step\n",
      "Epoch 7/30\n",
      "WARNING:tensorflow:Learning rate reduction is conditioned on metric `val_acc` which is not available. Available metrics are: loss,accuracy,val_loss,val_accuracy,lr\n",
      "337/337 - 564s - loss: 0.0483 - accuracy: 0.9853 - val_loss: 0.0295 - val_accuracy: 0.9919 - lr: 0.0010 - 564s/epoch - 2s/step\n",
      "Epoch 8/30\n",
      "WARNING:tensorflow:Learning rate reduction is conditioned on metric `val_acc` which is not available. Available metrics are: loss,accuracy,val_loss,val_accuracy,lr\n",
      "337/337 - 545s - loss: 0.0451 - accuracy: 0.9865 - val_loss: 0.0212 - val_accuracy: 0.9931 - lr: 0.0010 - 545s/epoch - 2s/step\n",
      "Epoch 9/30\n",
      "WARNING:tensorflow:Learning rate reduction is conditioned on metric `val_acc` which is not available. Available metrics are: loss,accuracy,val_loss,val_accuracy,lr\n",
      "337/337 - 536s - loss: 0.0426 - accuracy: 0.9867 - val_loss: 0.0202 - val_accuracy: 0.9933 - lr: 0.0010 - 536s/epoch - 2s/step\n",
      "Epoch 10/30\n",
      "WARNING:tensorflow:Learning rate reduction is conditioned on metric `val_acc` which is not available. Available metrics are: loss,accuracy,val_loss,val_accuracy,lr\n",
      "337/337 - 534s - loss: 0.0396 - accuracy: 0.9874 - val_loss: 0.0259 - val_accuracy: 0.9919 - lr: 0.0010 - 534s/epoch - 2s/step\n",
      "Epoch 11/30\n",
      "WARNING:tensorflow:Learning rate reduction is conditioned on metric `val_acc` which is not available. Available metrics are: loss,accuracy,val_loss,val_accuracy,lr\n",
      "337/337 - 539s - loss: 0.0395 - accuracy: 0.9874 - val_loss: 0.0276 - val_accuracy: 0.9931 - lr: 0.0010 - 539s/epoch - 2s/step\n",
      "Epoch 12/30\n",
      "WARNING:tensorflow:Learning rate reduction is conditioned on metric `val_acc` which is not available. Available metrics are: loss,accuracy,val_loss,val_accuracy,lr\n",
      "337/337 - 536s - loss: 0.0389 - accuracy: 0.9883 - val_loss: 0.0192 - val_accuracy: 0.9940 - lr: 0.0010 - 536s/epoch - 2s/step\n",
      "Epoch 13/30\n",
      "WARNING:tensorflow:Learning rate reduction is conditioned on metric `val_acc` which is not available. Available metrics are: loss,accuracy,val_loss,val_accuracy,lr\n",
      "337/337 - 536s - loss: 0.0377 - accuracy: 0.9891 - val_loss: 0.0200 - val_accuracy: 0.9940 - lr: 0.0010 - 536s/epoch - 2s/step\n",
      "Epoch 14/30\n",
      "WARNING:tensorflow:Learning rate reduction is conditioned on metric `val_acc` which is not available. Available metrics are: loss,accuracy,val_loss,val_accuracy,lr\n",
      "337/337 - 534s - loss: 0.0353 - accuracy: 0.9895 - val_loss: 0.0254 - val_accuracy: 0.9924 - lr: 0.0010 - 534s/epoch - 2s/step\n",
      "Epoch 15/30\n",
      "WARNING:tensorflow:Learning rate reduction is conditioned on metric `val_acc` which is not available. Available metrics are: loss,accuracy,val_loss,val_accuracy,lr\n",
      "337/337 - 539s - loss: 0.0342 - accuracy: 0.9898 - val_loss: 0.0205 - val_accuracy: 0.9938 - lr: 0.0010 - 539s/epoch - 2s/step\n",
      "Epoch 16/30\n",
      "WARNING:tensorflow:Learning rate reduction is conditioned on metric `val_acc` which is not available. Available metrics are: loss,accuracy,val_loss,val_accuracy,lr\n",
      "337/337 - 534s - loss: 0.0348 - accuracy: 0.9893 - val_loss: 0.0255 - val_accuracy: 0.9943 - lr: 0.0010 - 534s/epoch - 2s/step\n",
      "Epoch 17/30\n",
      "WARNING:tensorflow:Learning rate reduction is conditioned on metric `val_acc` which is not available. Available metrics are: loss,accuracy,val_loss,val_accuracy,lr\n",
      "337/337 - 535s - loss: 0.0347 - accuracy: 0.9895 - val_loss: 0.0240 - val_accuracy: 0.9926 - lr: 0.0010 - 535s/epoch - 2s/step\n",
      "Epoch 18/30\n",
      "WARNING:tensorflow:Learning rate reduction is conditioned on metric `val_acc` which is not available. Available metrics are: loss,accuracy,val_loss,val_accuracy,lr\n",
      "337/337 - 537s - loss: 0.0319 - accuracy: 0.9901 - val_loss: 0.0187 - val_accuracy: 0.9933 - lr: 0.0010 - 537s/epoch - 2s/step\n",
      "Epoch 19/30\n",
      "WARNING:tensorflow:Learning rate reduction is conditioned on metric `val_acc` which is not available. Available metrics are: loss,accuracy,val_loss,val_accuracy,lr\n",
      "337/337 - 534s - loss: 0.0294 - accuracy: 0.9913 - val_loss: 0.0205 - val_accuracy: 0.9940 - lr: 0.0010 - 534s/epoch - 2s/step\n",
      "Epoch 20/30\n",
      "WARNING:tensorflow:Learning rate reduction is conditioned on metric `val_acc` which is not available. Available metrics are: loss,accuracy,val_loss,val_accuracy,lr\n",
      "337/337 - 535s - loss: 0.0346 - accuracy: 0.9901 - val_loss: 0.0193 - val_accuracy: 0.9938 - lr: 0.0010 - 535s/epoch - 2s/step\n",
      "Epoch 21/30\n",
      "WARNING:tensorflow:Learning rate reduction is conditioned on metric `val_acc` which is not available. Available metrics are: loss,accuracy,val_loss,val_accuracy,lr\n",
      "337/337 - 535s - loss: 0.0337 - accuracy: 0.9900 - val_loss: 0.0194 - val_accuracy: 0.9931 - lr: 0.0010 - 535s/epoch - 2s/step\n",
      "Epoch 22/30\n",
      "WARNING:tensorflow:Learning rate reduction is conditioned on metric `val_acc` which is not available. Available metrics are: loss,accuracy,val_loss,val_accuracy,lr\n",
      "337/337 - 536s - loss: 0.0305 - accuracy: 0.9907 - val_loss: 0.0220 - val_accuracy: 0.9936 - lr: 0.0010 - 536s/epoch - 2s/step\n",
      "Epoch 23/30\n",
      "WARNING:tensorflow:Learning rate reduction is conditioned on metric `val_acc` which is not available. Available metrics are: loss,accuracy,val_loss,val_accuracy,lr\n",
      "337/337 - 534s - loss: 0.0308 - accuracy: 0.9907 - val_loss: 0.0230 - val_accuracy: 0.9931 - lr: 0.0010 - 534s/epoch - 2s/step\n",
      "Epoch 24/30\n",
      "WARNING:tensorflow:Learning rate reduction is conditioned on metric `val_acc` which is not available. Available metrics are: loss,accuracy,val_loss,val_accuracy,lr\n",
      "337/337 - 539s - loss: 0.0307 - accuracy: 0.9912 - val_loss: 0.0288 - val_accuracy: 0.9895 - lr: 0.0010 - 539s/epoch - 2s/step\n",
      "Epoch 25/30\n",
      "WARNING:tensorflow:Learning rate reduction is conditioned on metric `val_acc` which is not available. Available metrics are: loss,accuracy,val_loss,val_accuracy,lr\n",
      "337/337 - 564s - loss: 0.0313 - accuracy: 0.9909 - val_loss: 0.0159 - val_accuracy: 0.9948 - lr: 0.0010 - 564s/epoch - 2s/step\n",
      "Epoch 26/30\n",
      "WARNING:tensorflow:Learning rate reduction is conditioned on metric `val_acc` which is not available. Available metrics are: loss,accuracy,val_loss,val_accuracy,lr\n",
      "337/337 - 624s - loss: 0.0296 - accuracy: 0.9914 - val_loss: 0.0180 - val_accuracy: 0.9950 - lr: 0.0010 - 624s/epoch - 2s/step\n",
      "Epoch 27/30\n",
      "WARNING:tensorflow:Learning rate reduction is conditioned on metric `val_acc` which is not available. Available metrics are: loss,accuracy,val_loss,val_accuracy,lr\n",
      "337/337 - 539s - loss: 0.0288 - accuracy: 0.9920 - val_loss: 0.0254 - val_accuracy: 0.9940 - lr: 0.0010 - 539s/epoch - 2s/step\n",
      "Epoch 28/30\n",
      "WARNING:tensorflow:Learning rate reduction is conditioned on metric `val_acc` which is not available. Available metrics are: loss,accuracy,val_loss,val_accuracy,lr\n",
      "337/337 - 554s - loss: 0.0302 - accuracy: 0.9913 - val_loss: 0.0278 - val_accuracy: 0.9940 - lr: 0.0010 - 554s/epoch - 2s/step\n",
      "Epoch 29/30\n",
      "WARNING:tensorflow:Learning rate reduction is conditioned on metric `val_acc` which is not available. Available metrics are: loss,accuracy,val_loss,val_accuracy,lr\n",
      "337/337 - 543s - loss: 0.0296 - accuracy: 0.9914 - val_loss: 0.0165 - val_accuracy: 0.9945 - lr: 0.0010 - 543s/epoch - 2s/step\n",
      "Epoch 30/30\n",
      "WARNING:tensorflow:Learning rate reduction is conditioned on metric `val_acc` which is not available. Available metrics are: loss,accuracy,val_loss,val_accuracy,lr\n",
      "337/337 - 674s - loss: 0.0293 - accuracy: 0.9916 - val_loss: 0.0212 - val_accuracy: 0.9936 - lr: 0.0010 - 674s/epoch - 2s/step\n"
     ]
    }
   ],
   "source": [
    "# Fit the model\n",
    "history = model.fit(datagen.flow(X_train,Y_train, batch_size=batch_size),\n",
    "                              epochs = epochs, validation_data = (X_val,Y_val),\n",
    "                              verbose = 2, steps_per_epoch=X_train.shape[0] // batch_size\n",
    "                              , callbacks=[learning_rate_reduction])"
   ]
  },
  {
   "cell_type": "code",
   "execution_count": 32,
   "id": "4281d7ce-e255-4907-ac8f-2d5b9ad15a55",
   "metadata": {},
   "outputs": [
    {
     "data": {
      "text/plain": [
       "[<matplotlib.lines.Line2D at 0x13055185750>]"
      ]
     },
     "execution_count": 32,
     "metadata": {},
     "output_type": "execute_result"
    },
    {
     "data": {
      "image/png": "[encoded data removed]",
      "text/plain": [
       "<Figure size 640x480 with 2 Axes>"
      ]
     },
     "metadata": {},
     "output_type": "display_data"
    }
   ],
   "source": [
    "fig, ax = plt.subplots(2,1)\n",
    "ax[0].plot(history.history['loss'], color='b', label=\"Training loss\")\n",
    "ax[0].plot(history.history['val_loss'], color='r', label=\"Validation loss\")\n",
    "legend = ax[0].legend(loc='best', shadow=True)\n",
    "ax[1].plot(history.history['accuracy'], color='b', label=\"Training accuracy\")\n"
   ]
  },
  {
   "cell_type": "code",
   "execution_count": 33,
   "id": "cec2ec12-957c-4719-a027-32aa0f986300",
   "metadata": {},
   "outputs": [
    {
     "name": "stdout",
     "output_type": "stream",
     "text": [
      "132/132 [==============================] - 20s 145ms/step\n"
     ]
    },
    {
     "data": {
      "image/png": "[encoded data removed]",
      "text/plain": [
       "<Figure size 640x480 with 2 Axes>"
      ]
     },
     "metadata": {},
     "output_type": "display_data"
    }
   ],
   "source": [
    "# Look at confusion matrix \n",
    "\n",
    "def plot_confusion_matrix(cm, classes,\n",
    "                          normalize=False,\n",
    "                          title='Confusion matrix',\n",
    "                          cmap=plt.cm.Blues):\n",
    "    \"\"\"\n",
    "    This function prints and plots the confusion matrix.\n",
    "    Normalization can be applied by setting `normalize=True`.\n",
    "    \"\"\"\n",
    "    plt.imshow(cm, interpolation='nearest', cmap=cmap)\n",
    "    plt.title(title)\n",
    "    plt.colorbar()\n",
    "    tick_marks = np.arange(len(classes))\n",
    "    plt.xticks(tick_marks, classes, rotation=45)\n",
    "    plt.yticks(tick_marks, classes)\n",
    "\n",
    "    if normalize:\n",
    "        cm = cm.astype('float') / cm.sum(axis=1)[:, np.newaxis]\n",
    "\n",
    "    thresh = cm.max() / 2.\n",
    "    for i, j in itertools.product(range(cm.shape[0]), range(cm.shape[1])):\n",
    "        plt.text(j, i, cm[i, j],\n",
    "                 horizontalalignment=\"center\",\n",
    "                 color=\"white\" if cm[i, j] > thresh else \"black\")\n",
    "\n",
    "    plt.tight_layout()\n",
    "    plt.ylabel('True label')\n",
    "    plt.xlabel('Predicted label')\n",
    "\n",
    "# Predict the values from the validation dataset\n",
    "Y_pred = model.predict(X_val)\n",
    "# Convert predictions classes to one hot vectors \n",
    "Y_pred_classes = np.argmax(Y_pred,axis = 1) \n",
    "# Convert validation observations to one hot vectors\n",
    "Y_true = np.argmax(Y_val,axis = 1) \n",
    "# compute the confusion matrix\n",
    "confusion_mtx = confusion_matrix(Y_true, Y_pred_classes) \n",
    "# plot the confusion matrix\n",
    "plot_confusion_matrix(confusion_mtx, classes = range(10)) "
   ]
  },
  {
   "cell_type": "code",
   "execution_count": 34,
   "id": "9de87d1e-403e-44e6-9667-ede16b025910",
   "metadata": {},
   "outputs": [
    {
     "data": {
      "image/png": "[encoded data removed]",
      "text/plain": [
       "<Figure size 640x480 with 6 Axes>"
      ]
     },
     "metadata": {},
     "output_type": "display_data"
    }
   ],
   "source": [
    "# Display some error results \n",
    "\n",
    "# Errors are difference between predicted labels and true labels\n",
    "errors = (Y_pred_classes - Y_true != 0)\n",
    "\n",
    "Y_pred_classes_errors = Y_pred_classes[errors]\n",
    "Y_pred_errors = Y_pred[errors]\n",
    "Y_true_errors = Y_true[errors]\n",
    "X_val_errors = X_val[errors]\n",
    "\n",
    "def display_errors(errors_index,img_errors,pred_errors, obs_errors):\n",
    "    \"\"\" This function shows 6 images with their predicted and real labels\"\"\"\n",
    "    n = 0\n",
    "    nrows = 2\n",
    "    ncols = 3\n",
    "    fig, ax = plt.subplots(nrows,ncols,sharex=True,sharey=True)\n",
    "    for row in range(nrows):\n",
    "        for col in range(ncols):\n",
    "            error = errors_index[n]\n",
    "            ax[row,col].imshow((img_errors[error]).reshape((28,28)))\n",
    "            ax[row,col].set_title(\" Predicted :{} True :{}\".format(pred_errors[error],obs_errors[error]))\n",
    "            n += 1\n",
    "\n",
    "# Probabilities of the wrong predicted numbers\n",
    "Y_pred_errors_prob = np.max(Y_pred_errors,axis = 1)\n",
    "\n",
    "# Predicted probabilities of the true values in the error set\n",
    "true_prob_errors = np.diagonal(np.take(Y_pred_errors, Y_true_errors, axis=1))\n",
    "\n",
    "# Difference between the probability of the predicted label and the true label\n",
    "delta_pred_true_errors = Y_pred_errors_prob - true_prob_errors\n",
    "\n",
    "# Sorted list of the delta prob errors\n",
    "sorted_dela_errors = np.argsort(delta_pred_true_errors)\n",
    "\n",
    "# Top 6 errors \n",
    "most_important_errors = sorted_dela_errors[-6:]\n",
    "\n",
    "# Show the top 6 errors\n",
    "display_errors(most_important_errors, X_val_errors, Y_pred_classes_errors, Y_true_errors)"
   ]
  },
  {
   "cell_type": "code",
   "execution_count": 35,
   "id": "fa8cd661-a479-4b4b-84a5-dcbe70141648",
   "metadata": {},
   "outputs": [
    {
     "name": "stdout",
     "output_type": "stream",
     "text": [
      "875/875 [==============================] - 163s 186ms/step\n"
     ]
    }
   ],
   "source": [
    "# predict results\n",
    "results = model.predict(test)\n",
    "\n",
    "# select the indix with the maximum probability\n",
    "results = np.argmax(results,axis = 1)\n",
    "\n",
    "results = pd.Series(results,name=\"Label\")"
   ]
  },
  {
   "cell_type": "code",
   "execution_count": 40,
   "id": "cc7589ba-cce8-4d18-8f5c-00b88eaa94c7",
   "metadata": {},
   "outputs": [],
   "source": [
    "submission = pd.concat([pd.Series(range(1,28001),name = \"ImageId\"),results],axis = 1)\n",
    "\n",
    "submission.to_csv(\"cnn_mnist_datagen.csv\",index=False)"
   ]
  },
  {
   "cell_type": "code",
   "execution_count": 45,
   "id": "74ea8c85-96c4-4948-bc56-f0bf0c85044e",
   "metadata": {},
   "outputs": [],
   "source": [
    "# Save the trained model\n",
    "model.save('cnn_mnist_model.h5')"
   ]
  },
  {
   "cell_type": "code",
   "execution_count": null,
   "id": "c616d37a-4fa9-433b-8d92-f06e7fc96dd4",
   "metadata": {},
   "outputs": [],
   "source": []
  }
 ],
 "metadata": {
  "kernelspec": {
   "display_name": "Python 3 (ipykernel)",
   "language": "python",
   "name": "python3"
  },
  "language_info": {
   "codemirror_mode": {
    "name": "ipython",
    "version": 3
   },
   "file_extension": ".py",
   "mimetype": "text/x-python",
   "name": "python",
   "nbconvert_exporter": "python",
   "pygments_lexer": "ipython3",
   "version": "3.11.7"
  }
 },
 "nbformat": 4,
 "nbformat_minor": 5
}
