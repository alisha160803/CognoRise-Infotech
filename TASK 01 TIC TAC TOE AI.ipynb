{
 "cells": [
  {
   "cell_type": "code",
   "execution_count": 1,
   "id": "a1f21a39-15e1-45f4-9f4b-5889b611a8ed",
   "metadata": {},
   "outputs": [
    {
     "name": "stdout",
     "output_type": "stream",
     "text": [
      "Welcome to Tic Tac Toe!\n",
      " | | \n",
      " | | \n",
      " | | \n",
      "\n",
      "\n"
     ]
    },
    {
     "name": "stdin",
     "output_type": "stream",
     "text": [
      "Enter your move (row col):  2 2\n"
     ]
    },
    {
     "name": "stdout",
     "output_type": "stream",
     "text": [
      " | | \n",
      " | | \n",
      " | |O\n",
      "\n",
      "\n",
      "AI's move:\n",
      "X| | \n",
      " | | \n",
      " | |O\n",
      "\n",
      "\n"
     ]
    },
    {
     "name": "stdin",
     "output_type": "stream",
     "text": [
      "Enter your move (row col):  2 2\n"
     ]
    },
    {
     "name": "stdout",
     "output_type": "stream",
     "text": [
      "Invalid move! That cell is already occupied.\n"
     ]
    },
    {
     "name": "stdin",
     "output_type": "stream",
     "text": [
      "Enter your move (row col):  1 2\n"
     ]
    },
    {
     "name": "stdout",
     "output_type": "stream",
     "text": [
      "X| | \n",
      " | |O\n",
      " | |O\n",
      "\n",
      "\n",
      "AI's move:\n",
      "X| |X\n",
      " | |O\n",
      " | |O\n",
      "\n",
      "\n"
     ]
    },
    {
     "name": "stdin",
     "output_type": "stream",
     "text": [
      "Enter your move (row col):  2 1 \n"
     ]
    },
    {
     "name": "stdout",
     "output_type": "stream",
     "text": [
      "X| |X\n",
      " | |O\n",
      " |O|O\n",
      "\n",
      "\n",
      "AI's move:\n",
      "X|X|X\n",
      " | |O\n",
      " |O|O\n",
      "\n",
      "\n",
      "AI wins!\n"
     ]
    }
   ],
   "source": [
    "import math\n",
    "\n",
    "# The board is represented as a list of lists\n",
    "# Each sublist represents a row in the Tic Tac Toe grid\n",
    "# Empty cells are represented by ' '\n",
    "# Example:\n",
    "# [['X', 'O', 'X'],\n",
    "#  [' ', 'X', 'O'],\n",
    "#  ['O', ' ', 'X']]\n",
    "\n",
    "def print_board(board):\n",
    "    for row in board:\n",
    "        print(\"|\".join(row))\n",
    "    print(\"\\n\")\n",
    "\n",
    "def empty_cells(board):\n",
    "    cells = []\n",
    "    for i in range(3):\n",
    "        for j in range(3):\n",
    "            if board[i][j] == ' ':\n",
    "                cells.append((i, j))\n",
    "    return cells\n",
    "\n",
    "def check_winner(board, player):\n",
    "    # Check rows\n",
    "    for row in board:\n",
    "        if all(cell == player for cell in row):\n",
    "            return True\n",
    "    # Check columns\n",
    "    for j in range(3):\n",
    "        if all(board[i][j] == player for i in range(3)):\n",
    "            return True\n",
    "    # Check diagonals\n",
    "    if all(board[i][i] == player for i in range(3)) or all(board[i][2 - i] == player for i in range(3)):\n",
    "        return True\n",
    "    return False\n",
    "\n",
    "def game_over(board):\n",
    "    return check_winner(board, 'X') or check_winner(board, 'O') or len(empty_cells(board)) == 0\n",
    "\n",
    "def evaluate(board):\n",
    "    if check_winner(board, 'X'):\n",
    "        return 1\n",
    "    elif check_winner(board, 'O'):\n",
    "        return -1\n",
    "    else:\n",
    "        return 0\n",
    "\n",
    "def minimax(board, depth, maximizing_player):\n",
    "    if game_over(board) or depth == 0:\n",
    "        return evaluate(board)\n",
    "    \n",
    "    if maximizing_player:\n",
    "        max_eval = -math.inf\n",
    "        for cell in empty_cells(board):\n",
    "            board[cell[0]][cell[1]] = 'X'\n",
    "            eval = minimax(board, depth - 1, False)\n",
    "            board[cell[0]][cell[1]] = ' '\n",
    "            max_eval = max(max_eval, eval)\n",
    "        return max_eval\n",
    "    else:\n",
    "        min_eval = math.inf\n",
    "        for cell in empty_cells(board):\n",
    "            board[cell[0]][cell[1]] = 'O'\n",
    "            eval = minimax(board, depth - 1, True)\n",
    "            board[cell[0]][cell[1]] = ' '\n",
    "            min_eval = min(min_eval, eval)\n",
    "        return min_eval\n",
    "\n",
    "def get_best_move(board):\n",
    "    best_eval = -math.inf\n",
    "    best_move = None\n",
    "    for cell in empty_cells(board):\n",
    "        board[cell[0]][cell[1]] = 'X'\n",
    "        eval = minimax(board, 3, False)\n",
    "        board[cell[0]][cell[1]] = ' '\n",
    "        if eval > best_eval:\n",
    "            best_eval = eval\n",
    "            best_move = cell\n",
    "    return best_move\n",
    "\n",
    "def main():\n",
    "    board = [[' ' for _ in range(3)] for _ in range(3)]\n",
    "    print(\"Welcome to Tic Tac Toe!\")\n",
    "    print_board(board)\n",
    "    while not game_over(board):\n",
    "        try:\n",
    "            player_move = tuple(map(int, input(\"Enter your move (row col): \").split()))\n",
    "            if not (0 <= player_move[0] < 3 and 0 <= player_move[1] < 3):\n",
    "                print(\"Invalid move! Row and column values should be between 0 and 2.\")\n",
    "                continue\n",
    "            if board[player_move[0]][player_move[1]] == ' ':\n",
    "                board[player_move[0]][player_move[1]] = 'O'\n",
    "                print_board(board)\n",
    "                if not game_over(board):\n",
    "                    ai_move = get_best_move(board)\n",
    "                    board[ai_move[0]][ai_move[1]] = 'X'\n",
    "                    print(\"AI's move:\")\n",
    "                    print_board(board)\n",
    "            else:\n",
    "                print(\"Invalid move! That cell is already occupied.\")\n",
    "        except ValueError:\n",
    "            print(\"Invalid input! Please enter row and column values as integers.\")\n",
    "    if check_winner(board, 'X'):\n",
    "        print(\"AI wins!\")\n",
    "    elif check_winner(board, 'O'):\n",
    "        print(\"You win!\")\n",
    "    else:\n",
    "        print(\"It's a draw!\")\n",
    "\n",
    "if __name__ == \"__main__\":\n",
    "    main()\n"
   ]
  },
  {
   "cell_type": "code",
   "execution_count": null,
   "id": "2034392e-8de3-44ad-ac7c-059e5df0b6d8",
   "metadata": {},
   "outputs": [],
   "source": []
  }
 ],
 "metadata": {
  "kernelspec": {
   "display_name": "anaconda-2024.02-py310",
   "language": "python",
   "name": "conda-env-anaconda-2024.02-py310-py"
  },
  "language_info": {
   "codemirror_mode": {
    "name": "ipython",
    "version": 3
   },
   "file_extension": ".py",
   "mimetype": "text/x-python",
   "name": "python",
   "nbconvert_exporter": "python",
   "pygments_lexer": "ipython3",
   "version": "3.10.14"
  }
 },
 "nbformat": 4,
 "nbformat_minor": 5
}
